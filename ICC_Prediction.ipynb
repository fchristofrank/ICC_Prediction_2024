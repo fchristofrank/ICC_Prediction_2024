{
 "cells": [
  {
   "cell_type": "code",
   "execution_count": 2,
   "id": "7f06aee0-4051-4994-9ec4-3a8ca926821f",
   "metadata": {},
   "outputs": [],
   "source": [
    "#imports\n",
    "import pandas as pd\n",
    "from sklearn.preprocessing import OneHotEncoder, StandardScaler\n",
    "from sklearn.model_selection import train_test_split\n",
    "import numpy as np\n",
    "import tensorflow as tf\n",
    "from tensorflow.keras.models import Sequential\n",
    "from tensorflow.keras.layers import Input, Dense, Dropout\n",
    "from tensorflow.keras.callbacks import EarlyStopping\n",
    "import matplotlib.pyplot as plt\n"
   ]
  },
  {
   "cell_type": "code",
   "execution_count": 26,
   "id": "d37d789b-faf8-4685-803a-19512bbd99f7",
   "metadata": {},
   "outputs": [
    {
     "data": {
      "text/plain": [
       "912"
      ]
     },
     "execution_count": 26,
     "metadata": {},
     "output_type": "execute_result"
    }
   ],
   "source": [
    "matchData = pd.read_csv(\"C:\\\\Users\\\\frank\\\\OneDrive\\\\Desktop\\\\T20Prediction\\\\Data\\\\MatchResults.csv\")\n",
    "countries = [\"India\", \"U.S.A.\", \"Pakistan\", \"Canada\", \"Ireland\", \"Australia\", \"England\", \"Scotland\", \"Namibia\", \"Oman\", \"Afghanistan\", \n",
    "             \"West Indies\", \"New Zealand\", \"Uganda\", \"P.N.G.\", \"South Africa\", \"Bangladesh\", \"Sri Lanka\", \"Netherlands\", \"Nepal\"]\n",
    "\n",
    "matchResultsFiltered = matchData[(matchData['Team1'].isin(countries)) & (matchData['Team2'].isin(countries)) & (matchData['Country'].isin(countries))]\n",
    "#matchResultsFiltered = matchData[((matchData['Team1'] == 'India') & (matchData['Team2'] == 'Australia') | (matchData['Team1'] == 'Australia') & (matchData['Team2'] == 'India'))]\n",
    "#matchResultsFiltered = matchData.dropna()\n",
    "len(matchResultsFiltered)"
   ]
  },
  {
   "cell_type": "code",
   "execution_count": null,
   "id": "d5c163c8-5b15-4afd-85a8-02b0993a3585",
   "metadata": {},
   "outputs": [],
   "source": [
    "#Collect Features\n",
    "# India Win Percentage \n",
    "IndiaWinFraction = len(matchResultsFiltered[(matchResultsFiltered['Match Winner'] == 'India')])/len(matchResultsFiltered)\n",
    "# India WorldCup Wins\n",
    "IndiaWCWinFraction = len(matchResultsFiltered[((matchResultsFiltered['Series Name'].str.contains('ICC')) & (matchResultsFiltered['Match Winner'] == 'India'))]) / len(matchResultsFiltered[(matchResultsFiltered['Series Name'].str.contains('ICC'))])"
   ]
  },
  {
   "cell_type": "code",
   "execution_count": 29,
   "id": "13663daf-056d-4167-b1e6-e65704f56785",
   "metadata": {},
   "outputs": [
    {
     "name": "stdout",
     "output_type": "stream",
     "text": [
      "Encoded X shape: (912, 75)\n",
      "Encoded y shape: (912, 20)\n",
      "[array(['Afghanistan', 'Australia', 'Bangladesh', 'Canada', 'England',\n",
      "       'India', 'Ireland', 'Namibia', 'Nepal', 'Netherlands',\n",
      "       'New Zealand', 'Oman', 'P.N.G.', 'Pakistan', 'Scotland',\n",
      "       'South Africa', 'Sri Lanka', 'Uganda', 'West Indies'], dtype=object), array(['Afghanistan', 'Australia', 'Bangladesh', 'Canada', 'England',\n",
      "       'India', 'Ireland', 'Namibia', 'Nepal', 'Netherlands',\n",
      "       'New Zealand', 'Oman', 'P.N.G.', 'Pakistan', 'Scotland',\n",
      "       'South Africa', 'Sri Lanka', 'U.S.A.', 'Uganda', 'West Indies'],\n",
      "      dtype=object), array(['Afghanistan', 'Australia', 'Bangladesh', 'Canada', 'England',\n",
      "       'India', 'Ireland', 'Namibia', 'Nepal', 'Netherlands',\n",
      "       'New Zealand', 'Oman', 'P.N.G.', 'Pakistan', 'Scotland',\n",
      "       'South Africa', 'Sri Lanka', 'Uganda', 'West Indies'], dtype=object), array(['Australia', 'Bangladesh', 'Canada', 'England', 'India', 'Ireland',\n",
      "       'Namibia', 'Nepal', 'Netherlands', 'New Zealand', 'Oman',\n",
      "       'Pakistan', 'Scotland', 'South Africa', 'Sri Lanka', 'Uganda',\n",
      "       'West Indies'], dtype=object)]\n",
      "75\n"
     ]
    }
   ],
   "source": [
    "X = matchResultsFiltered[['Team1', 'Team2','TossWinner', 'Country']]\n",
    "y = matchResultsFiltered[['Match Winner']]\n",
    "\n",
    "categorical_features_X = ['Team1', 'Team2', 'TossWinner', 'Country']\n",
    "categorical_features_y = ['Match Winner']\n",
    "\n",
    "encoder_X = OneHotEncoder(sparse_output=False, handle_unknown='ignore')\n",
    "encoder_y = OneHotEncoder(sparse_output=False, handle_unknown='ignore')\n",
    "\n",
    "\n",
    "\n",
    "X_encoded = encoder_X.fit_transform(matchResultsFiltered[categorical_features_X])\n",
    "y_encoded = encoder_y.fit_transform(matchResultsFiltered[categorical_features_y])\n",
    "\n",
    "\n",
    "print(\"Encoded X shape:\", X_encoded.shape)\n",
    "print(\"Encoded y shape:\", y_encoded.shape)\n",
    "\n",
    "X_train, X_test, y_train, y_test = train_test_split(X_encoded, y_encoded, test_size=0.25, random_state=4)\n",
    "\n",
    "print(encoder_X.categories_)\n",
    "\n",
    "print(len(X_train[0]))\n",
    "\n",
    "\n"
   ]
  },
  {
   "cell_type": "code",
   "execution_count": 30,
   "id": "4b762307-6888-43ec-a57f-7835bd1e7428",
   "metadata": {},
   "outputs": [],
   "source": [
    "model = Sequential([\n",
    "    Input(shape=(X_train.shape[1],)),\n",
    "    Dense(64, activation='tanh'),\n",
    "    Dense(256, activation='relu'),\n",
    "    Dense(512, activation='relu'),\n",
    "    Dropout(0.5),\n",
    "    Dense(256, activation='tanh'),\n",
    "    Dense(128, activation='relu'),\n",
    "    Dropout(0.5),\n",
    "    Dense(64, activation='tanh'),\n",
    "    Dense(32, activation='tanh'),\n",
    "    Dense(y_train.shape[1], activation='tanh') \n",
    "])\n",
    "\n",
    "custom_optimizer = tf.keras.optimizers.Adam(\n",
    "    learning_rate=0.001,\n",
    "    beta_1=0.9,\n",
    "    beta_2=0.999,\n",
    "    epsilon=1e-07,\n",
    "    amsgrad=False,\n",
    "    weight_decay=None,\n",
    "    clipnorm=None,\n",
    "    clipvalue=None,\n",
    "    global_clipnorm=None,\n",
    "    use_ema=False,\n",
    "    ema_momentum=0.99,\n",
    "    ema_overwrite_frequency=None,\n",
    "    loss_scale_factor=None,\n",
    "    gradient_accumulation_steps=None,\n",
    "    name='adam'\n",
    ")\n",
    "\n",
    "model.compile(optimizer=custom_optimizer,\n",
    "              loss='categorical_crossentropy',  # or 'sparse_categorical_crossentropy' for multi-class classification\n",
    "              metrics=['accuracy'])"
   ]
  },
  {
   "cell_type": "code",
   "execution_count": 31,
   "id": "3d260530-a681-4316-9c74-02f19dbfadda",
   "metadata": {},
   "outputs": [],
   "source": [
    "history = model.fit(X_train, y_train, epochs=1000, batch_size=32, validation_split=0.2, verbose=0)"
   ]
  },
  {
   "cell_type": "code",
   "execution_count": null,
   "id": "1ce8c7ce-8dfb-4503-9ca6-c707b50d504a",
   "metadata": {},
   "outputs": [],
   "source": [
    "plt.plot(history.history['accuracy'])\n",
    "plt.legend(['accuracy'])\n",
    "plt.ylabel('accuracy')\n",
    "plt.xlabel('epoch')"
   ]
  },
  {
   "cell_type": "code",
   "execution_count": null,
   "id": "7ad0a563-518f-4f7f-b9db-f29de19d2623",
   "metadata": {},
   "outputs": [],
   "source": [
    "plt.plot(history.history['loss'])\n",
    "plt.legend(['loss'])\n",
    "plt.title('loss')\n",
    "plt.xlabel('epoch')"
   ]
  },
  {
   "cell_type": "code",
   "execution_count": null,
   "id": "da3d4780-126d-4465-bb44-315fd9b1ebe4",
   "metadata": {},
   "outputs": [],
   "source": [
    "loss, accuracy = model.evaluate(X_test, y_test)\n",
    "print(f'Test loss: {loss}')\n",
    "print(f'Test accuracy: {accuracy}')"
   ]
  },
  {
   "cell_type": "code",
   "execution_count": 19,
   "id": "68bd5546-2db3-458c-954e-7cd05c41a6d8",
   "metadata": {},
   "outputs": [
    {
     "name": "stdout",
     "output_type": "stream",
     "text": [
      "[['Team1']\n",
      " ['Team2']\n",
      " ['TossWinner']\n",
      " ['Country']\n",
      " ['Team1']\n",
      " ['mars']\n",
      " ['lars']\n",
      " ['fif']]\n",
      "Encoded X shape: (2, 7)\n"
     ]
    }
   ],
   "source": [
    "X = [['Team1', 'Team2','TossWinner', 'Country'],\n",
    "     ['Team1','mars','lars','fif']]\n",
    "X = np.asarray(X)\n",
    "print(X.reshape(-1,1))\n",
    "\n",
    "\n",
    "encoder_X = OneHotEncoder()\n",
    "\n",
    "\n",
    "X_encoded = encoder_X.fit_transform(X)\n",
    "\n",
    "\n",
    "\n",
    "print(\"Encoded X shape:\", X_encoded.shape)\n",
    "\n",
    "\n"
   ]
  },
  {
   "cell_type": "code",
   "execution_count": null,
   "id": "7223061e-1527-41d4-a53d-5b8ac21c559f",
   "metadata": {},
   "outputs": [],
   "source": []
  },
  {
   "cell_type": "code",
   "execution_count": null,
   "id": "25c758b5-6e0e-49f9-bb16-dd9c9312bc4d",
   "metadata": {},
   "outputs": [],
   "source": []
  }
 ],
 "metadata": {
  "kernelspec": {
   "display_name": "Python 3 (ipykernel)",
   "language": "python",
   "name": "python3"
  },
  "language_info": {
   "codemirror_mode": {
    "name": "ipython",
    "version": 3
   },
   "file_extension": ".py",
   "mimetype": "text/x-python",
   "name": "python",
   "nbconvert_exporter": "python",
   "pygments_lexer": "ipython3",
   "version": "3.10.11"
  }
 },
 "nbformat": 4,
 "nbformat_minor": 5
}
